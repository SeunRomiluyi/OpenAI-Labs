{
 "cells": [
  {
   "attachments": {},
   "cell_type": "markdown",
   "metadata": {},
   "source": [
    "# Example Docker Deployment Notebook\n",
    "\n",
    "This notebook provides an example for deploying an FFModel solution as a Flask\n",
    "app via Docker. After running through this example, you will have:\n",
    "\n",
    "1. Created a Docker image for the [`nl2python`](../nl2python/) example.\n",
    "2. Created a container executing that image.\n",
    "3. Used the container to perform inference requests that translate natural\n",
    "   language to Python code.\n",
    "\n",
    "Please note that this example is not sufficient to deploy a production\n",
    "inferencing service. For more information on how to deploy a production Flask\n",
    "app, visit the [Flask documentation].\n",
    "\n",
    "Before getting started, make sure that you have Docker installed locally. On\n",
    "Linux, you can install Docker using the following command:\n",
    "\n",
    "```bash\n",
    "# Make sure to inspect the script before running this:\n",
    "curl -fsSl https://get.docker.com | sh -\n",
    "```\n",
    "\n",
    "Finally, make sure that you have Docker Compose installed. On Linux, you can\n",
    "install Docker Compose using the following command:\n",
    "\n",
    "```bash\n",
    "sudo apt update\n",
    "sudo apt install docker-compose-plugin\n",
    "\n",
    "# Verify it's installed\n",
    "docker-compose --version\n",
    "```\n",
    "\n",
    "[flask documentation]: https://flask.palletsprojects.com/en/2.3.x/tutorial/deploy/"
   ]
  },
  {
   "attachments": {},
   "cell_type": "markdown",
   "metadata": {},
   "source": [
    "## Preparing your image\n",
    "\n",
    "Before we can create our image, we need to make sure to fill in our environment\n",
    "files. Copy the `.env.sample` and `.ffmodel.sample` files to `.env` and\n",
    "`.ffmodel` respectively, then fill in any missing fields:\n",
    "\n",
    "```sh\n",
    "# .env is used during build time to install FFModel\n",
    "cp .env.sample .env\n",
    "\n",
    "# .ffmodel is the environment config used by the application\n",
    "cp .ffmodel.sample .ffmodel\n",
    "```\n",
    "\n",
    "Next, we need to create our image. We can do this by running the following\n",
    "command:\n",
    "\n",
    "```sh\n",
    "docker compose build\n",
    "```\n",
    "\n",
    "This will copy over your project's contents into the Docker build context and\n",
    "build the image. The root directory of the context is your project's root. Since\n",
    "it takes time for the container to build, now is a good chance to inspect the\n",
    "[`Dockerfile`](./Dockerfile) and [`docker-compose.yaml`](./docker-compose.yaml).\n",
    "\n",
    "Verify your image was built by running:\n",
    "\n",
    "```sh\n",
    "docker image ls\n",
    "```\n",
    "\n",
    "The image should be tagged as `ffmodel`."
   ]
  },
  {
   "attachments": {},
   "cell_type": "markdown",
   "metadata": {},
   "source": [
    "## Testing your image\n",
    "\n",
    "Now that we have our image, we can test it out. We can run it locally by\n",
    "running:\n",
    "\n",
    "```sh\n",
    "docker compose up\n",
    "```\n",
    "\n",
    "This will start the container and run the Flask app. Afterwards, you can send\n",
    "requests to the app by running:"
   ]
  },
  {
   "cell_type": "code",
   "execution_count": null,
   "metadata": {},
   "outputs": [],
   "source": [
    "from urllib.request import urlopen, Request\n",
    "import json\n",
    "\n",
    "body = {\n",
    "    \"user_nl\": \"print 'hello world' to the console\"\n",
    "}\n",
    "\n",
    "headers = {\"content-type\": \"application/json\"}\n",
    "req = Request(\"http://localhost:8080/inference\", str.encode(json.dumps(body)), headers)\n",
    "try:\n",
    "    res = urlopen(req).read().decode(\"utf-8\", \"ignore\")\n",
    "    print(res)\n",
    "except Exception as error:\n",
    "    print(\"Request failed:\")\n",
    "    print(str(error))\n"
   ]
  }
 ],
 "metadata": {
  "kernelspec": {
   "display_name": ".venv",
   "language": "python",
   "name": "python3"
  },
  "language_info": {
   "codemirror_mode": {
    "name": "ipython",
    "version": 3
   },
   "file_extension": ".py",
   "mimetype": "text/x-python",
   "name": "python",
   "nbconvert_exporter": "python",
   "pygments_lexer": "ipython3",
   "version": "3.10.11"
  },
  "orig_nbformat": 4
 },
 "nbformat": 4,
 "nbformat_minor": 2
}
