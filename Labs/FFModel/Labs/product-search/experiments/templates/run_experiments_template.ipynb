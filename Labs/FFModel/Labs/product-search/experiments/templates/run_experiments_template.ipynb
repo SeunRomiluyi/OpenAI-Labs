{
  "cells": [
    {
      "cell_type": "markdown",
      "metadata": {},
      "source": [
        "# Run Experiments\n",
        "\n",
        "This is a template notebook that walks you through how to run an experiment using FFModel. To run an experiment you need to capture environment configurations in a config file. Environment configurations are all the configs needed by your experiment and FFModel to run locally or on the cloud."
      ]
    },
    {
      "cell_type": "code",
      "execution_count": null,
      "metadata": {},
      "outputs": [],
      "source": [
        "import traceback\n",
        "from ffmodel.core import orchestrator\n",
        "from ffmodel.core.aml import aml_orchestrator"
      ]
    },
    {
      "cell_type": "markdown",
      "metadata": {},
      "source": [
        "## Experiments\n",
        "\n",
        "This section captures details the experiments and where to capture their outputs.\n",
        "\n",
        "- `experiment_name`: the name of this experiment.\n",
        "- `solution_configs`: an array that holds the solution_configs/yaml files to run.\n",
        "- `environment_config_path`: the path to your FFModel environment config file."
      ]
    },
    {
      "cell_type": "code",
      "execution_count": null,
      "metadata": {},
      "outputs": [],
      "source": [
        "experiment_name = \"\"\n",
        "solution_configs = [\"\"]\n",
        "environment_config_path = \"\""
      ]
    },
    {
      "cell_type": "markdown",
      "metadata": {},
      "source": [
        "## Execute the experiments\n",
        "\n",
        "With FFModel, you can run your experiments locally or on the cloud.\n",
        "\n",
        "- To run locally, use the `orchestrator.execute_experiment_on_local`\n",
        "- To run on the cloud using your Azure Machine Learning workspace, use the `orchestrator.execute_experiment_on_aml`"
      ]
    },
    {
      "cell_type": "code",
      "execution_count": null,
      "metadata": {},
      "outputs": [],
      "source": [
        "first_data_models = {}\n",
        "\n",
        "for exp in solution_configs:\n",
        "    print(f\"Running experiment {exp}\")\n",
        "    data_models = orchestrator.execute_experiment_on_local(\n",
        "        exp, environment_config_path\n",
        "    )\n",
        "    if len(data_models) > 0:\n",
        "        first_data_models[exp] = data_models[0]\n",
        "\n",
        "# Print the final data models for each experiment\n",
        "for config_path in first_data_models:\n",
        "    print(f\"############### The data model for {config_path}:\")\n",
        "    print(first_data_models[config_path])"
      ]
    }
  ],
  "metadata": {
    "language_info": {
      "name": "python"
    },
    "orig_nbformat": 4
  },
  "nbformat": 4,
  "nbformat_minor": 2
}
