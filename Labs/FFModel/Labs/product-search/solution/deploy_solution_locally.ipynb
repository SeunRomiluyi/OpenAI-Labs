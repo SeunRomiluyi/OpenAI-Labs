{
 "cells": [
  {
   "attachments": {},
   "cell_type": "markdown",
   "metadata": {},
   "source": [
    "# Deploy Solution Locally\n",
    "\n",
    "This is a light notebook for triggering local solution deployment to manually test out key data points against the LLM-based solution."
   ]
  },
  {
   "cell_type": "code",
   "execution_count": 1,
   "metadata": {},
   "outputs": [],
   "source": [
    "from ffmodel.core.inference_endpoint import InferenceEndpoint\n",
    "\n",
    "environment_config_path = \"~/.product-search.env\""
   ]
  },
  {
   "cell_type": "code",
   "execution_count": 2,
   "metadata": {},
   "outputs": [
    {
     "name": "stderr",
     "output_type": "stream",
     "text": [
      "2023-10-05 18:51:32,314 name=ffmodel.core.inference_endpoint level=INFO Initializing inference runtime. \n",
      "2023-10-05 18:51:32,315 name=ffmodel.utils.file_logger level=INFO File Logging is disabled: SolutionConfig and DataModel will not be logged \n",
      "2023-10-05 18:51:32,315 name=ffmodel.utils.file_logger level=INFO File Logging is disabled: SolutionConfig and DataModel will not be logged \n",
      "2023-10-05 18:51:32,316 name=ffmodel.core.inference_endpoint level=METRICS solution_config \n"
     ]
    },
    {
     "name": "stdout",
     "output_type": "stream",
     "text": [
      "Loading local environment configs from file.\n",
      "Loaded 2 configs from file '/Users/jorgeluna/.product-search.env'.\n",
      "Key vault url not set. Skipping key vault client initialization.\n",
      "FFModelLogger: Logging will print to console as no AppInsight connection was provided (config `APP_INSIGHTS_CONNECTION_STRING)`.\n"
     ]
    },
    {
     "name": "stderr",
     "output_type": "stream",
     "text": [
      "2023-10-05 18:51:36,431 name=ffmodel.core.inference_endpoint level=INFO Inference runtime initialized. \n",
      "2023-10-05 18:51:36,432 name=ffmodel.core.inference_endpoint level=INFO Downloading supporting data for solution pipeline. \n",
      "2023-10-05 18:51:36,440 name=ffmodel.core.inference_endpoint level=INFO Downloaded file names: [] \n",
      "2023-10-05 18:51:36,441 name=ffmodel.core.inference_endpoint level=INFO Initializing solution pipeline. \n",
      "2023-10-05 18:51:36,475 name=ffmodel.core.inference_endpoint level=INFO Adding reader components.readers.text_prompt to the pipeline. \n",
      "2023-10-05 18:51:36,484 name=ffmodel.core.inference_endpoint level=INFO Adding component components.pre_processors.static_context_from_file to the pipeline. \n",
      "2023-10-05 18:51:36,489 name=ffmodel.core.inference_endpoint level=INFO Adding component components.stitchers.openai_chat_completions to the pipeline. \n"
     ]
    },
    {
     "name": "stdout",
     "output_type": "stream",
     "text": [
      "Finished pip installing dependencies for project.\n"
     ]
    },
    {
     "name": "stderr",
     "output_type": "stream",
     "text": [
      "2023-10-05 18:51:37,428 name=ffmodel.core.inference_endpoint level=INFO Adding component components.model_callers.openai_chat_completions to the pipeline. \n",
      "2023-10-05 18:51:37,432 name=ffmodel.core.inference_endpoint level=INFO Skipping non-inference component components.evaluators.semantic_similarity in the pipeline. \n",
      "2023-10-05 18:51:37,437 name=ffmodel.core.inference_endpoint level=INFO Adding writer components.writers.jsonl to the pipeline. \n",
      "2023-10-05 18:51:37,438 name=ffmodel.core.inference_endpoint level=INFO Successfully initialized solution pipeline with solution-id: 01_baseline \n"
     ]
    }
   ],
   "source": [
    "solution_config_path = \"./solution_configs/01_baseline.yaml\"\n",
    "\n",
    "endpoint = InferenceEndpoint(solution_config_path, environment_config_path)"
   ]
  },
  {
   "cell_type": "code",
   "execution_count": 3,
   "metadata": {},
   "outputs": [
    {
     "name": "stderr",
     "output_type": "stream",
     "text": [
      "2023-10-05 18:51:39,528 name=ffmodel.core.inference_endpoint level=INFO Starting to process user prompt: {\"user_nl\":\"What should I buy for a day at Schlitterbahn?\"} \n",
      "2023-10-05 18:51:39,528 name=ffmodel.core.inference_endpoint level=INFO Executing components.pre_processors.static_context_from_file \n",
      "2023-10-05 18:51:39,529 name=ffmodel.core.inference_endpoint level=INFO Executing components.stitchers.openai_chat_completions \n",
      "2023-10-05 18:51:39,529 name=ffmodel.core.inference_endpoint level=INFO Executing components.model_callers.openai_chat_completions \n"
     ]
    },
    {
     "name": "stdout",
     "output_type": "stream",
     "text": [
      "yoyoyo:{'engine': 'gpt-35-turbo', 'stop': [], 'max_tokens': 500, 'temperature': 0}\n"
     ]
    },
    {
     "name": "stderr",
     "output_type": "stream",
     "text": [
      "2023-10-05 18:51:45,198 name=ffmodel.core.inference_endpoint level=INFO Executing components.writers.jsonl \n",
      "2023-10-05 18:51:45,200 name=ffmodel.core.inference_endpoint level=METRICS final_data_model \n",
      "2023-10-05 18:51:45,200 name=ffmodel.core.inference_endpoint level=INFO Final Data Model:\n",
      "{\"request\": {\"user_nl\": \"{\\\"user_nl\\\":\\\"What should I buy for a day at Schlitterbahn?\\\"}\", \"session_id\": null, \"session\": null, \"sequence\": null, \"complementary_data\": {}, \"metadata\": {\"solution_id\": \"01_baseline\", \"execution_mode\": \"inference\", \"run_id\": \"sweet_melon_cz4pf9n0nm\", \"request_id\": null, \"sequence\": null}}, \"state\": {\"component_data\": {}, \"context\": [\"You are an AI assistant that helps users of an e-commerce website shop for products.\\n\"], \"completion_pairs\": [], \"session\": [], \"user_nl\": \"{\\\"user_nl\\\":\\\"What should I buy for a day at Schlitterbahn?\\\"}\"}, \"model_input\": {\"prompt\": \"[\\n  {\\n    \\\"role\\\": \\\"system\\\",\\n    \\\"content\\\": \\\"You are an AI assistant that helps users of an e-commerce website shop for products.\\\\n\\\"\\n  },\\n  {\\n    \\\"role\\\": \\\"user\\\",\\n    \\\"content\\\": \\\"{\\\\\\\"user_nl\\\\\\\":\\\\\\\"What should I buy for a day at Schlitterbahn?\\\\\\\"}\\\"\\n  }\\n]\"}, \"model_output\": {\"completions\": [\"For a day at Schlitterbahn, you may want to consider purchasing the following items:\\n\\n1. Sunscreen: It's important to protect your skin from the sun's harmful rays, especially when spending a day outdoors. Look for a sunscreen with a high SPF and water-resistant formula.\\n\\n2. Swimsuit: You'll definitely want to wear a swimsuit to enjoy all the water rides and attractions at Schlitterbahn. Choose a comfortable and secure swimsuit that you feel confident in.\\n\\n3. Water shoes: The ground around the water park can get hot and slippery, so it's a good idea to wear water shoes to protect your feet and provide better traction.\\n\\n4. Towel: Bring a towel to dry off after getting wet on the rides or to lay on when taking a break.\\n\\n5. Water bottle: Staying hydrated is important, so bring a refillable water bottle to keep with you throughout the day.\\n\\n6. Snacks: While there are food options available at the park, bringing your own snacks can save you money and ensure you have something you like to eat.\\n\\n7. Waterproof phone case: If you plan on taking your phone with you, consider investing in a waterproof phone case to protect it from water damage.\"]}, \"log\": {}, \"error\": null} \n",
      "2023-10-05 18:51:45,200 name=ffmodel.core.inference_endpoint level=METRICS request_complete \n"
     ]
    },
    {
     "data": {
      "text/plain": [
       "[\"For a day at Schlitterbahn, you may want to consider purchasing the following items:\\n\\n1. Sunscreen: It's important to protect your skin from the sun's harmful rays, especially when spending a day outdoors. Look for a sunscreen with a high SPF and water-resistant formula.\\n\\n2. Swimsuit: You'll definitely want to wear a swimsuit to enjoy all the water rides and attractions at Schlitterbahn. Choose a comfortable and secure swimsuit that you feel confident in.\\n\\n3. Water shoes: The ground around the water park can get hot and slippery, so it's a good idea to wear water shoes to protect your feet and provide better traction.\\n\\n4. Towel: Bring a towel to dry off after getting wet on the rides or to lay on when taking a break.\\n\\n5. Water bottle: Staying hydrated is important, so bring a refillable water bottle to keep with you throughout the day.\\n\\n6. Snacks: While there are food options available at the park, bringing your own snacks can save you money and ensure you have something you like to eat.\\n\\n7. Waterproof phone case: If you plan on taking your phone with you, consider investing in a waterproof phone case to protect it from water damage.\"]"
      ]
     },
     "execution_count": 3,
     "metadata": {},
     "output_type": "execute_result"
    }
   ],
   "source": [
    "user_request = \"What should I buy for a day at Schlitterbahn?\"\n",
    "data_model = endpoint.execute(user_request)\n",
    "data_model.model_output.completions"
   ]
  },
  {
   "cell_type": "code",
   "execution_count": 4,
   "metadata": {},
   "outputs": [
    {
     "name": "stdout",
     "output_type": "stream",
     "text": [
      "[\"For a day at Schlitterbahn, you may want to consider purchasing the following items:\\n\\n1. Sunscreen: It's important to protect your skin from the sun's harmful rays, especially when spending a day outdoors. Look for a sunscreen with a high SPF and water-resistant formula.\\n\\n2. Swimsuit: You'll definitely want to wear a swimsuit to enjoy all the water rides and attractions at Schlitterbahn. Choose a comfortable and secure swimsuit that you feel confident in.\\n\\n3. Water shoes: The ground around the water park can get hot and slippery, so it's a good idea to wear water shoes to protect your feet and provide better traction.\\n\\n4. Towel: Bring a towel to dry off after getting wet on the rides or to lay on when taking a break.\\n\\n5. Water bottle: Staying hydrated is important, so bring a refillable water bottle to keep with you throughout the day.\\n\\n6. Snacks: While there are food options available at the park, bringing your own snacks can save you money and ensure you have something you like to eat.\\n\\n7. Waterproof phone case: If you plan on taking your phone with you, consider investing in a waterproof phone case to protect it from water damage.\"]\n"
     ]
    }
   ],
   "source": [
    "print(data_model.model_output.completions)"
   ]
  },
  {
   "cell_type": "code",
   "execution_count": 6,
   "metadata": {},
   "outputs": [
    {
     "name": "stdout",
     "output_type": "stream",
     "text": [
      "[\n",
      "  {\n",
      "    \"role\": \"system\",\n",
      "    \"content\": \"You are an AI assistant that helps users of an e-commerce website shop for products.\\n\"\n",
      "  },\n",
      "  {\n",
      "    \"role\": \"user\",\n",
      "    \"content\": \"What should I buy for a day at Schlitterbahn?\"\n",
      "  }\n",
      "]\n"
     ]
    }
   ],
   "source": [
    "print(data_model.model_input.prompt)"
   ]
  },
  {
   "cell_type": "code",
   "execution_count": 7,
   "metadata": {},
   "outputs": [
    {
     "name": "stdout",
     "output_type": "stream",
     "text": [
      "{\n",
      "    \"user_nl\": \"What should I buy for a day at Schlitterbahn?\",\n",
      "    \"session_id\": null,\n",
      "    \"session\": null,\n",
      "    \"sequence\": null,\n",
      "    \"complementary_data\": {},\n",
      "    \"metadata\": {\n",
      "        \"solution_id\": \"01_baseline\",\n",
      "        \"execution_mode\": \"inference\",\n",
      "        \"run_id\": \"jovial_parsnip_g6n0tjbcym\",\n",
      "        \"request_id\": null,\n",
      "        \"sequence\": null\n",
      "    }\n",
      "}\n"
     ]
    }
   ],
   "source": [
    "print(data_model.request)"
   ]
  },
  {
   "cell_type": "code",
   "execution_count": 9,
   "metadata": {},
   "outputs": [
    {
     "name": "stdout",
     "output_type": "stream",
     "text": [
      "{\n",
      "    \"request\": {\n",
      "        \"user_nl\": \"What should I buy for a day at Schlitterbahn?\",\n",
      "        \"session_id\": null,\n",
      "        \"session\": null,\n",
      "        \"sequence\": null,\n",
      "        \"complementary_data\": {},\n",
      "        \"metadata\": {\n",
      "            \"solution_id\": \"01_baseline\",\n",
      "            \"execution_mode\": \"inference\",\n",
      "            \"run_id\": \"jovial_parsnip_g6n0tjbcym\",\n",
      "            \"request_id\": null,\n",
      "            \"sequence\": null\n",
      "        }\n",
      "    },\n",
      "    \"state\": {\n",
      "        \"component_data\": {},\n",
      "        \"context\": [\n",
      "            \"You are an AI assistant that helps users of an e-commerce website shop for products.\\n\"\n",
      "        ],\n",
      "        \"completion_pairs\": [],\n",
      "        \"session\": [],\n",
      "        \"user_nl\": \"What should I buy for a day at Schlitterbahn?\"\n",
      "    },\n",
      "    \"model_input\": {\n",
      "        \"prompt\": \"[\\n  {\\n    \\\"role\\\": \\\"system\\\",\\n    \\\"content\\\": \\\"You are an AI assistant that helps users of an e-commerce website shop for products.\\\\n\\\"\\n  },\\n  {\\n    \\\"role\\\": \\\"user\\\",\\n    \\\"content\\\": \\\"What should I buy for a day at Schlitterbahn?\\\"\\n  }\\n]\"\n",
      "    },\n",
      "    \"model_output\": {\n",
      "        \"completions\": [\n",
      "            \"Schlitterbahn is a water park, so you'll want to make sure you have the right gear to enjoy your day in the sun and water. Here are some suggestions:\\n\\n1. Swimsuit: Make sure you have a comfortable swimsuit that fits well and stays in place while you're riding the water slides.\\n\\n2. Sunscreen: Protect your skin from the sun's harmful rays with a high SPF sunscreen. Apply it liberally and frequently throughout the day.\\n\\n3. Water shoes: The pavement around the park can get hot, so water shoes will protect your feet and provide better traction on slippery surfaces.\\n\\n4. Towel: Bring a towel to dry off after rides and to sit on while you're taking a break.\\n\\n5. Waterproof phone case: If you want to take photos or videos while you're in the water, a waterproof phone case will keep your phone safe and dry.\\n\\n6. Snacks and water: Staying hydrated and fueled up is important, so bring plenty of water and snacks to keep you going throughout the day.\\n\\n7. Cash or credit card: You may want to buy food, drinks, or souvenirs, so make sure you have a way to pay for them.\"\n",
      "        ]\n",
      "    },\n",
      "    \"log\": {},\n",
      "    \"error\": null\n",
      "}\n"
     ]
    }
   ],
   "source": [
    "print(data_model)"
   ]
  }
 ],
 "metadata": {
  "kernelspec": {
   "display_name": "ffmodel",
   "language": "python",
   "name": "python3"
  },
  "language_info": {
   "codemirror_mode": {
    "name": "ipython",
    "version": 3
   },
   "file_extension": ".py",
   "mimetype": "text/x-python",
   "name": "python",
   "nbconvert_exporter": "python",
   "pygments_lexer": "ipython3",
   "version": "3.11.5"
  },
  "orig_nbformat": 4
 },
 "nbformat": 4,
 "nbformat_minor": 2
}
