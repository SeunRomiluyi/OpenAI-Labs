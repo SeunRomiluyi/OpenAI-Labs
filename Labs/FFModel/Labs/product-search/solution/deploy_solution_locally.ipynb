{
 "cells": [
  {
   "attachments": {},
   "cell_type": "markdown",
   "metadata": {},
   "source": [
    "# Deploy Solution Locally\n",
    "\n",
    "This is a light notebook for triggering local solution deployment to manually test out key data points against the LLM-based solution."
   ]
  },
  {
   "cell_type": "code",
   "execution_count": 1,
   "metadata": {},
   "outputs": [],
   "source": [
    "from ffmodel.core.inference_endpoint import InferenceEndpoint\n",
    "\n",
    "environment_config_path = \"~/.product-search.env\""
   ]
  },
  {
   "cell_type": "code",
   "execution_count": 2,
   "metadata": {},
   "outputs": [
    {
     "name": "stderr",
     "output_type": "stream",
     "text": [
      "2023-10-06 10:37:37,915 name=ffmodel.core.inference_endpoint level=INFO Initializing inference runtime. \n",
      "2023-10-06 10:37:37,916 name=ffmodel.utils.file_logger level=INFO File Logging is disabled: SolutionConfig and DataModel will not be logged \n",
      "2023-10-06 10:37:37,916 name=ffmodel.utils.file_logger level=INFO File Logging is disabled: SolutionConfig and DataModel will not be logged \n",
      "2023-10-06 10:37:37,916 name=ffmodel.core.inference_endpoint level=METRICS solution_config \n"
     ]
    },
    {
     "name": "stdout",
     "output_type": "stream",
     "text": [
      "Loading local environment configs from file.\n",
      "Loaded 2 configs from file '/Users/jorgeluna/.product-search.env'.\n",
      "Key vault url not set. Skipping key vault client initialization.\n",
      "FFModelLogger: Logging will print to console as no AppInsight connection was provided (config `APP_INSIGHTS_CONNECTION_STRING)`.\n",
      "Requirement already satisfied: seaborn in /Users/jorgeluna/anaconda3/envs/hackpython/lib/python3.11/site-packages (from -r ../requirements.txt (line 2)) (0.13.0)\n",
      "Requirement already satisfied: pandas in /Users/jorgeluna/anaconda3/envs/hackpython/lib/python3.11/site-packages (from -r ../requirements.txt (line 3)) (2.1.0)\n",
      "Requirement already satisfied: numpy>=1.24.3 in /Users/jorgeluna/anaconda3/envs/hackpython/lib/python3.11/site-packages (from -r ../requirements.txt (line 4)) (1.25.2)\n",
      "Requirement already satisfied: matplotlib!=3.6.1,>=3.3 in /Users/jorgeluna/anaconda3/envs/hackpython/lib/python3.11/site-packages (from seaborn->-r ../requirements.txt (line 2)) (3.7.3)\n",
      "Requirement already satisfied: python-dateutil>=2.8.2 in /Users/jorgeluna/anaconda3/envs/hackpython/lib/python3.11/site-packages (from pandas->-r ../requirements.txt (line 3)) (2.8.2)\n",
      "Requirement already satisfied: pytz>=2020.1 in /Users/jorgeluna/anaconda3/envs/hackpython/lib/python3.11/site-packages (from pandas->-r ../requirements.txt (line 3)) (2023.3.post1)\n",
      "Requirement already satisfied: tzdata>=2022.1 in /Users/jorgeluna/anaconda3/envs/hackpython/lib/python3.11/site-packages (from pandas->-r ../requirements.txt (line 3)) (2023.3)\n",
      "Requirement already satisfied: contourpy>=1.0.1 in /Users/jorgeluna/anaconda3/envs/hackpython/lib/python3.11/site-packages (from matplotlib!=3.6.1,>=3.3->seaborn->-r ../requirements.txt (line 2)) (1.1.0)\n",
      "Requirement already satisfied: cycler>=0.10 in /Users/jorgeluna/anaconda3/envs/hackpython/lib/python3.11/site-packages (from matplotlib!=3.6.1,>=3.3->seaborn->-r ../requirements.txt (line 2)) (0.11.0)\n",
      "Requirement already satisfied: fonttools>=4.22.0 in /Users/jorgeluna/anaconda3/envs/hackpython/lib/python3.11/site-packages (from matplotlib!=3.6.1,>=3.3->seaborn->-r ../requirements.txt (line 2)) (4.42.1)\n",
      "Requirement already satisfied: kiwisolver>=1.0.1 in /Users/jorgeluna/anaconda3/envs/hackpython/lib/python3.11/site-packages (from matplotlib!=3.6.1,>=3.3->seaborn->-r ../requirements.txt (line 2)) (1.4.5)\n",
      "Requirement already satisfied: packaging>=20.0 in /Users/jorgeluna/anaconda3/envs/hackpython/lib/python3.11/site-packages (from matplotlib!=3.6.1,>=3.3->seaborn->-r ../requirements.txt (line 2)) (23.1)\n",
      "Requirement already satisfied: pillow>=6.2.0 in /Users/jorgeluna/anaconda3/envs/hackpython/lib/python3.11/site-packages (from matplotlib!=3.6.1,>=3.3->seaborn->-r ../requirements.txt (line 2)) (10.0.0)\n",
      "Requirement already satisfied: pyparsing>=2.3.1 in /Users/jorgeluna/anaconda3/envs/hackpython/lib/python3.11/site-packages (from matplotlib!=3.6.1,>=3.3->seaborn->-r ../requirements.txt (line 2)) (3.1.1)\n",
      "Requirement already satisfied: six>=1.5 in /Users/jorgeluna/anaconda3/envs/hackpython/lib/python3.11/site-packages (from python-dateutil>=2.8.2->pandas->-r ../requirements.txt (line 3)) (1.16.0)\n"
     ]
    },
    {
     "name": "stderr",
     "output_type": "stream",
     "text": [
      "2023-10-06 10:37:42,412 name=ffmodel.core.inference_endpoint level=INFO Inference runtime initialized. \n",
      "2023-10-06 10:37:42,413 name=ffmodel.core.inference_endpoint level=INFO Downloading supporting data for solution pipeline. \n",
      "2023-10-06 10:37:42,415 name=ffmodel.core.inference_endpoint level=INFO Downloaded file names: [] \n",
      "2023-10-06 10:37:42,415 name=ffmodel.core.inference_endpoint level=INFO Initializing solution pipeline. \n",
      "2023-10-06 10:37:42,431 name=ffmodel.core.inference_endpoint level=INFO Adding reader components.readers.jsonl to the pipeline. \n",
      "2023-10-06 10:37:42,444 name=ffmodel.core.inference_endpoint level=INFO Adding component components.pre_processors.static_context_from_file to the pipeline. \n",
      "2023-10-06 10:37:42,447 name=ffmodel.core.inference_endpoint level=INFO Adding component components.pre_processors.few_shots_from_file to the pipeline. \n",
      "2023-10-06 10:37:42,452 name=ffmodel.core.inference_endpoint level=INFO Adding component components.stitchers.openai_chat_completions to the pipeline. \n"
     ]
    },
    {
     "name": "stdout",
     "output_type": "stream",
     "text": [
      "Finished pip installing dependencies for project.\n"
     ]
    },
    {
     "name": "stderr",
     "output_type": "stream",
     "text": [
      "2023-10-06 10:37:44,084 name=ffmodel.core.inference_endpoint level=INFO Adding component components.model_callers.openai_chat_completions to the pipeline. \n",
      "2023-10-06 10:37:44,090 name=ffmodel.core.inference_endpoint level=INFO Skipping non-inference component components.evaluators.semantic_similarity in the pipeline. \n",
      "2023-10-06 10:37:44,093 name=ffmodel.core.inference_endpoint level=INFO Adding writer components.writers.jsonl to the pipeline. \n",
      "2023-10-06 10:37:44,094 name=ffmodel.core.inference_endpoint level=INFO Successfully initialized solution pipeline with solution-id: 01_baseline \n"
     ]
    }
   ],
   "source": [
    "solution_config_path = \"./solution_configs/02_with_fewshots.yaml\"\n",
    "\n",
    "endpoint = InferenceEndpoint(solution_config_path, environment_config_path)"
   ]
  },
  {
   "cell_type": "code",
   "execution_count": 3,
   "metadata": {},
   "outputs": [
    {
     "name": "stderr",
     "output_type": "stream",
     "text": [
      "2023-10-06 10:37:50,565 name=ffmodel.core.inference_endpoint level=INFO Starting to process user prompt: What should I buy for a day at Schlitterbahn? \n",
      "2023-10-06 10:37:50,565 name=ffmodel.core.inference_endpoint level=INFO Executing components.pre_processors.static_context_from_file \n",
      "2023-10-06 10:37:50,566 name=ffmodel.core.inference_endpoint level=INFO Executing components.pre_processors.few_shots_from_file \n",
      "2023-10-06 10:37:50,566 name=ffmodel.core.inference_endpoint level=ERROR components.pre_processors.few_shots_from_file Component failed with an exception 'user_nl'. \n",
      "2023-10-06 10:37:50,566 name=ffmodel.core.inference_endpoint level=ERROR 'user_nl' \n",
      "Traceback (most recent call last):\n",
      "  File \"/Users/jorgeluna/anaconda3/envs/hackpython/lib/python3.11/site-packages/ffmodel/core/inference_endpoint.py\", line 196, in execute\n",
      "    data_model = step.execute(data_model)\n",
      "                 ^^^^^^^^^^^^^^^^^^^^^^^^\n",
      "  File \"/Users/jorgeluna/work/OpenAI-Labs/Labs/FFModel/Labs/product-search/solution/../components/pre_processors/few_shots_from_file.py\", line 42, in execute\n",
      "    completion_pairs = [(shot[\"user_nl\"], json.dumps(shot[\"expected_output\"])) for shot in self.shots]\n",
      "                       ^^^^^^^^^^^^^^^^^^^^^^^^^^^^^^^^^^^^^^^^^^^^^^^^^^^^^^^^^^^^^^^^^^^^^^^^^^^^^^^\n",
      "  File \"/Users/jorgeluna/work/OpenAI-Labs/Labs/FFModel/Labs/product-search/solution/../components/pre_processors/few_shots_from_file.py\", line 42, in <listcomp>\n",
      "    completion_pairs = [(shot[\"user_nl\"], json.dumps(shot[\"expected_output\"])) for shot in self.shots]\n",
      "                         ~~~~^^^^^^^^^^^\n",
      "KeyError: 'user_nl'\n",
      "2023-10-06 10:37:50,592 name=ffmodel.core.inference_endpoint level=INFO Error Data Model:\n",
      "{\"request\": {\"user_nl\": \"What should I buy for a day at Schlitterbahn?\", \"session_id\": null, \"session\": null, \"sequence\": null, \"complementary_data\": {}, \"metadata\": {\"solution_id\": \"01_baseline\", \"execution_mode\": \"inference\", \"run_id\": \"nifty_head_rhc7pg17w9\", \"request_id\": null, \"sequence\": null}}, \"state\": {\"component_data\": {}, \"context\": [\"*You are a shopping assistant for Contoso store, you are helpful and cheerful, when people ask for help you recommend one or more products that they should purchase based on their questions.\\n*Results should be provided in a structured output that is json format containing the following elements\\n    *product_name\\n    *quantity\\n*If asked about anything except for product recommendations, you politely decline.\\n\"], \"completion_pairs\": [], \"session\": [], \"user_nl\": \"What should I buy for a day at Schlitterbahn?\"}, \"model_input\": {\"prompt\": \"What should I buy for a day at Schlitterbahn?\"}, \"model_output\": {\"completions\": null}, \"log\": {}, \"error\": \"components.pre_processors.few_shots_from_file Component failed with an exception 'user_nl'.\"} \n"
     ]
    },
    {
     "ename": "Exception",
     "evalue": "components.pre_processors.few_shots_from_file Component failed with an exception 'user_nl'.",
     "output_type": "error",
     "traceback": [
      "\u001b[0;31m---------------------------------------------------------------------------\u001b[0m",
      "\u001b[0;31mKeyError\u001b[0m                                  Traceback (most recent call last)",
      "File \u001b[0;32m~/anaconda3/envs/hackpython/lib/python3.11/site-packages/ffmodel/core/inference_endpoint.py:196\u001b[0m, in \u001b[0;36mInferenceEndpoint.execute\u001b[0;34m(self, raw_request, request_id)\u001b[0m\n\u001b[1;32m    195\u001b[0m \u001b[39mtry\u001b[39;00m:\n\u001b[0;32m--> 196\u001b[0m     data_model \u001b[39m=\u001b[39m step\u001b[39m.\u001b[39;49mexecute(data_model)\n\u001b[1;32m    197\u001b[0m     DataModelLogger\u001b[39m.\u001b[39mlog_data_model(data_model, step\u001b[39m.\u001b[39mget_id())\n",
      "File \u001b[0;32m~/work/OpenAI-Labs/Labs/FFModel/Labs/product-search/solution/../components/pre_processors/few_shots_from_file.py:42\u001b[0m, in \u001b[0;36mComponent.execute\u001b[0;34m(self, data_model)\u001b[0m\n\u001b[1;32m     38\u001b[0m \u001b[39m\u001b[39m\u001b[39m\"\"\"\u001b[39;00m\n\u001b[1;32m     39\u001b[0m \u001b[39mExecutes the component for the given data model and returns an\u001b[39;00m\n\u001b[1;32m     40\u001b[0m \u001b[39mupdated data model.\u001b[39;00m\n\u001b[1;32m     41\u001b[0m \u001b[39m\"\"\"\u001b[39;00m\n\u001b[0;32m---> 42\u001b[0m completion_pairs \u001b[39m=\u001b[39m [(shot[\u001b[39m\"\u001b[39;49m\u001b[39muser_nl\u001b[39;49m\u001b[39m\"\u001b[39;49m], json\u001b[39m.\u001b[39;49mdumps(shot[\u001b[39m\"\u001b[39;49m\u001b[39mexpected_output\u001b[39;49m\u001b[39m\"\u001b[39;49m])) \u001b[39mfor\u001b[39;49;00m shot \u001b[39min\u001b[39;49;00m \u001b[39mself\u001b[39;49m\u001b[39m.\u001b[39;49mshots]\n\u001b[1;32m     43\u001b[0m data_model\u001b[39m.\u001b[39mstate\u001b[39m.\u001b[39mcompletion_pairs\u001b[39m.\u001b[39mextend(completion_pairs)\n",
      "File \u001b[0;32m~/work/OpenAI-Labs/Labs/FFModel/Labs/product-search/solution/../components/pre_processors/few_shots_from_file.py:42\u001b[0m, in \u001b[0;36m<listcomp>\u001b[0;34m(.0)\u001b[0m\n\u001b[1;32m     38\u001b[0m \u001b[39m\u001b[39m\u001b[39m\"\"\"\u001b[39;00m\n\u001b[1;32m     39\u001b[0m \u001b[39mExecutes the component for the given data model and returns an\u001b[39;00m\n\u001b[1;32m     40\u001b[0m \u001b[39mupdated data model.\u001b[39;00m\n\u001b[1;32m     41\u001b[0m \u001b[39m\"\"\"\u001b[39;00m\n\u001b[0;32m---> 42\u001b[0m completion_pairs \u001b[39m=\u001b[39m [(shot[\u001b[39m\"\u001b[39;49m\u001b[39muser_nl\u001b[39;49m\u001b[39m\"\u001b[39;49m], json\u001b[39m.\u001b[39mdumps(shot[\u001b[39m\"\u001b[39m\u001b[39mexpected_output\u001b[39m\u001b[39m\"\u001b[39m])) \u001b[39mfor\u001b[39;00m shot \u001b[39min\u001b[39;00m \u001b[39mself\u001b[39m\u001b[39m.\u001b[39mshots]\n\u001b[1;32m     43\u001b[0m data_model\u001b[39m.\u001b[39mstate\u001b[39m.\u001b[39mcompletion_pairs\u001b[39m.\u001b[39mextend(completion_pairs)\n",
      "\u001b[0;31mKeyError\u001b[0m: 'user_nl'",
      "\nDuring handling of the above exception, another exception occurred:\n",
      "\u001b[0;31mException\u001b[0m                                 Traceback (most recent call last)",
      "\u001b[1;32m/Users/jorgeluna/work/OpenAI-Labs/Labs/FFModel/Labs/product-search/solution/deploy_solution_locally.ipynb Cell 4\u001b[0m line \u001b[0;36m2\n\u001b[1;32m      <a href='vscode-notebook-cell:/Users/jorgeluna/work/OpenAI-Labs/Labs/FFModel/Labs/product-search/solution/deploy_solution_locally.ipynb#W3sZmlsZQ%3D%3D?line=0'>1</a>\u001b[0m user_request \u001b[39m=\u001b[39m \u001b[39m\"\"\"\u001b[39m\u001b[39m{\u001b[39m\u001b[39m\"\u001b[39m\u001b[39muser_nl\u001b[39m\u001b[39m\"\u001b[39m\u001b[39m:\u001b[39m\u001b[39m\"\u001b[39m\u001b[39mWhat should I buy for a day at Schlitterbahn?\u001b[39m\u001b[39m\"\u001b[39m\u001b[39m}\u001b[39m\u001b[39m\"\"\"\u001b[39m\n\u001b[0;32m----> <a href='vscode-notebook-cell:/Users/jorgeluna/work/OpenAI-Labs/Labs/FFModel/Labs/product-search/solution/deploy_solution_locally.ipynb#W3sZmlsZQ%3D%3D?line=1'>2</a>\u001b[0m data_model \u001b[39m=\u001b[39m endpoint\u001b[39m.\u001b[39;49mexecute(user_request)\n\u001b[1;32m      <a href='vscode-notebook-cell:/Users/jorgeluna/work/OpenAI-Labs/Labs/FFModel/Labs/product-search/solution/deploy_solution_locally.ipynb#W3sZmlsZQ%3D%3D?line=2'>3</a>\u001b[0m data_model\u001b[39m.\u001b[39mmodel_output\u001b[39m.\u001b[39mcompletions\n",
      "File \u001b[0;32m~/anaconda3/envs/hackpython/lib/python3.11/site-packages/ffmodel/core/inference_endpoint.py:205\u001b[0m, in \u001b[0;36mInferenceEndpoint.execute\u001b[0;34m(self, raw_request, request_id)\u001b[0m\n\u001b[1;32m    203\u001b[0m         \u001b[39mself\u001b[39m\u001b[39m.\u001b[39m_logger\u001b[39m.\u001b[39minfo(\u001b[39mf\u001b[39m\u001b[39m\"\u001b[39m\u001b[39mError Data Model:\u001b[39m\u001b[39m\\n\u001b[39;00m\u001b[39m{\u001b[39;00mjson\u001b[39m.\u001b[39mdumps(data_model\u001b[39m.\u001b[39mto_dict())\u001b[39m}\u001b[39;00m\u001b[39m\"\u001b[39m, data_model\u001b[39m=\u001b[39mdata_model)\n\u001b[1;32m    204\u001b[0m         DataModelLogger\u001b[39m.\u001b[39mlog_data_model(data_model, step\u001b[39m.\u001b[39mget_id())\n\u001b[0;32m--> 205\u001b[0m         \u001b[39mraise\u001b[39;00m \u001b[39mException\u001b[39;00m(error_message)\n\u001b[1;32m    207\u001b[0m \u001b[39m# Log Successful Case\u001b[39;00m\n\u001b[1;32m    208\u001b[0m DataModelLogger\u001b[39m.\u001b[39mlog_data_model(data_model, DataModelLogger\u001b[39m.\u001b[39mFINAL_DATA_MODEL_NAME)\n",
      "\u001b[0;31mException\u001b[0m: components.pre_processors.few_shots_from_file Component failed with an exception 'user_nl'."
     ]
    }
   ],
   "source": [
    "user_request = \"What should I buy for a day at Schlitterbahn?\"\n",
    "data_model = endpoint.execute(user_request)\n",
    "data_model.model_output.completions"
   ]
  },
  {
   "cell_type": "code",
   "execution_count": 4,
   "metadata": {},
   "outputs": [
    {
     "name": "stdout",
     "output_type": "stream",
     "text": [
      "['For a day at Schlitterbahn, I would recommend purchasing our waterproof sunscreen and a waterproof phone case to protect your belongings while enjoying the water rides.']\n"
     ]
    }
   ],
   "source": [
    "print(data_model.model_output.completions)"
   ]
  },
  {
   "cell_type": "code",
   "execution_count": 4,
   "metadata": {},
   "outputs": [
    {
     "name": "stdout",
     "output_type": "stream",
     "text": [
      "[\n",
      "  {\n",
      "    \"role\": \"system\",\n",
      "    \"content\": \"*You are a shopping assistant for Contoso store, you are helpful and cheerful, when people ask for help you recommend one or more products that they should purchase based on their questions.\\n\"\n",
      "  },\n",
      "  {\n",
      "    \"role\": \"user\",\n",
      "    \"content\": \"What should I buy for a day at Schlitterbahn?\"\n",
      "  }\n",
      "]\n"
     ]
    }
   ],
   "source": [
    "print(data_model.model_input.prompt)"
   ]
  },
  {
   "cell_type": "code",
   "execution_count": 6,
   "metadata": {},
   "outputs": [
    {
     "name": "stdout",
     "output_type": "stream",
     "text": [
      "{\n",
      "    \"user_nl\": \"What should I buy for a day at Schlitterbahn?\",\n",
      "    \"session_id\": null,\n",
      "    \"session\": null,\n",
      "    \"sequence\": null,\n",
      "    \"complementary_data\": {},\n",
      "    \"metadata\": {\n",
      "        \"solution_id\": \"01_baseline\",\n",
      "        \"execution_mode\": \"inference\",\n",
      "        \"run_id\": \"dynamic_stomach_cr41yrnk9w\",\n",
      "        \"request_id\": null,\n",
      "        \"sequence\": null\n",
      "    }\n",
      "}\n"
     ]
    }
   ],
   "source": [
    "print(data_model.request)"
   ]
  },
  {
   "cell_type": "code",
   "execution_count": 7,
   "metadata": {},
   "outputs": [
    {
     "name": "stdout",
     "output_type": "stream",
     "text": [
      "{\n",
      "    \"request\": {\n",
      "        \"user_nl\": \"What should I buy for a day at Schlitterbahn?\",\n",
      "        \"session_id\": null,\n",
      "        \"session\": null,\n",
      "        \"sequence\": null,\n",
      "        \"complementary_data\": {},\n",
      "        \"metadata\": {\n",
      "            \"solution_id\": \"01_baseline\",\n",
      "            \"execution_mode\": \"inference\",\n",
      "            \"run_id\": \"sweet_dolphin_2464c9s8x4\",\n",
      "            \"request_id\": null,\n",
      "            \"sequence\": null\n",
      "        }\n",
      "    },\n",
      "    \"state\": {\n",
      "        \"component_data\": {},\n",
      "        \"context\": [\n",
      "            \"You are an AI assistant that helps users of an e-commerce website shop for products.\\n\"\n",
      "        ],\n",
      "        \"completion_pairs\": [],\n",
      "        \"session\": [],\n",
      "        \"user_nl\": \"What should I buy for a day at Schlitterbahn?\"\n",
      "    },\n",
      "    \"model_input\": {\n",
      "        \"prompt\": \"[\\n  {\\n    \\\"role\\\": \\\"system\\\",\\n    \\\"content\\\": \\\"You are an AI assistant that helps users of an e-commerce website shop for products.\\\\n\\\"\\n  },\\n  {\\n    \\\"role\\\": \\\"user\\\",\\n    \\\"content\\\": \\\"What should I buy for a day at Schlitterbahn?\\\"\\n  }\\n]\"\n",
      "    },\n",
      "    \"model_output\": {\n",
      "        \"completions\": [\n",
      "            \"Schlitterbahn is a water park, so you'll want to make sure you have the right gear to enjoy your day in the sun and water. Here are some suggestions:\\n\\n1. Swimsuit: Make sure you have a comfortable swimsuit that fits well and stays in place while you're riding the water slides.\\n\\n2. Sunscreen: Protect your skin from the sun's harmful rays with a high SPF sunscreen. Apply it liberally and frequently throughout the day.\\n\\n3. Water shoes: The pavement around the park can get hot, so water shoes will protect your feet and provide better traction on slippery surfaces.\\n\\n4. Towel: Bring a towel to dry off after rides and to sit on while you're taking a break.\\n\\n5. Waterproof phone case: If you want to take photos or videos while you're in the water, a waterproof phone case will keep your phone safe and dry.\\n\\n6. Snacks and water: Staying hydrated and fueled up is important, so bring plenty of water and snacks to keep you going throughout the day.\\n\\n7. Cash or credit card: You may want to buy food, drinks, or souvenirs, so make sure you have a way to pay for them.\"\n",
      "        ]\n",
      "    },\n",
      "    \"log\": {},\n",
      "    \"error\": null\n",
      "}\n"
     ]
    }
   ],
   "source": [
    "print(data_model)"
   ]
  }
 ],
 "metadata": {
  "kernelspec": {
   "display_name": "ffmodel",
   "language": "python",
   "name": "python3"
  },
  "language_info": {
   "codemirror_mode": {
    "name": "ipython",
    "version": 3
   },
   "file_extension": ".py",
   "mimetype": "text/x-python",
   "name": "python",
   "nbconvert_exporter": "python",
   "pygments_lexer": "ipython3",
   "version": "3.11.5"
  },
  "orig_nbformat": 4
 },
 "nbformat": 4,
 "nbformat_minor": 2
}
