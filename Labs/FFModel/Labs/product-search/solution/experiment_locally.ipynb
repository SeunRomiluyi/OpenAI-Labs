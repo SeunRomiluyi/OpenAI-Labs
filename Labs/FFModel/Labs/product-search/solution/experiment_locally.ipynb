{
 "cells": [
  {
   "cell_type": "markdown",
   "metadata": {},
   "source": [
    "# Experiment Locally\n",
    "\n",
    "This is a simple notebook to run a local experiment."
   ]
  },
  {
   "cell_type": "code",
   "execution_count": 1,
   "metadata": {},
   "outputs": [],
   "source": [
    "from ffmodel.core import orchestrator\n",
    "\n",
    "environment_config_path = \"~/.ffmodel.lseg\""
   ]
  },
  {
   "cell_type": "code",
   "execution_count": 2,
   "metadata": {},
   "outputs": [
    {
     "name": "stdout",
     "output_type": "stream",
     "text": [
      "Loading local environment configs from file.\n",
      "Loaded 19 configs from file '/Users/jomalsan/.ffmodel.lseg'.\n",
      "Secret name 'FFMODEL_LOGGING_ENABLED' does not exist in the Key Vault with url 'https://kv-vxcloyec.vault.azure.net'\n",
      "Secret name 'FFMODEL_METRICS_ENABLED' does not exist in the Key Vault with url 'https://kv-vxcloyec.vault.azure.net'\n",
      "Secret name 'FFMODEL_LOGGING_LEVEL' does not exist in the Key Vault with url 'https://kv-vxcloyec.vault.azure.net'\n"
     ]
    },
    {
     "name": "stderr",
     "output_type": "stream",
     "text": [
      "2023-09-12 13:16:12,710 name=ffmodel.core.orchestrator level=INFO Starting local experiment with solution-id - 0_baseline and run-id ivory_fennel_wfvgd3vkcl \n"
     ]
    },
    {
     "name": "stdout",
     "output_type": "stream",
     "text": [
      "Secret name 'APP_INSIGHTS_CONNECTION_STRING' does not exist in the Key Vault with url 'https://kv-vxcloyec.vault.azure.net'\n",
      "FFModelLogger: Logging will print to console as no AppInsight connection was provided (config `APP_INSIGHTS_CONNECTION_STRING)`.\n",
      "Secret name 'FILE_LOGGER_STORAGE_CONNECTION' does not exist in the Key Vault with url 'https://kv-vxcloyec.vault.azure.net'\n",
      "Secret name 'FILE_LOGGER_STORAGE_CONTAINER' does not exist in the Key Vault with url 'https://kv-vxcloyec.vault.azure.net'\n"
     ]
    },
    {
     "name": "stderr",
     "output_type": "stream",
     "text": [
      "2023-09-12 13:16:12,977 name=ffmodel.utils.file_logger level=INFO File Logging is disabled: SolutionConfig and DataModel will not be logged \n"
     ]
    },
    {
     "name": "stdout",
     "output_type": "stream",
     "text": [
      "Secret name 'FILE_LOGGING_ENABLED' does not exist in the Key Vault with url 'https://kv-vxcloyec.vault.azure.net'\n",
      "Secret name 'FILE_LOGGER_STORAGE_CONNECTION' does not exist in the Key Vault with url 'https://kv-vxcloyec.vault.azure.net'\n",
      "Secret name 'FILE_LOGGER_STORAGE_CONTAINER' does not exist in the Key Vault with url 'https://kv-vxcloyec.vault.azure.net'\n"
     ]
    },
    {
     "name": "stderr",
     "output_type": "stream",
     "text": [
      "2023-09-12 13:16:13,225 name=ffmodel.utils.file_logger level=INFO File Logging is disabled: SolutionConfig and DataModel will not be logged \n",
      "2023-09-12 13:16:13,225 name=ffmodel.core.orchestrator level=METRICS solution_config \n",
      "2023-09-12 13:16:13,236 name=ffmodel.core.orchestrator level=INFO Adding component components.pre_processors.static_context_from_file to the pipeline. \n"
     ]
    },
    {
     "name": "stdout",
     "output_type": "stream",
     "text": [
      "Secret name 'FILE_LOGGING_ENABLED' does not exist in the Key Vault with url 'https://kv-vxcloyec.vault.azure.net'\n"
     ]
    },
    {
     "name": "stderr",
     "output_type": "stream",
     "text": [
      "2023-09-12 13:16:13,453 name=ffmodel.core.orchestrator level=INFO Adding component components.pre_processors.whisper_speech_to_text to the pipeline. \n",
      "2023-09-12 13:16:13,464 name=ffmodel.core.orchestrator level=INFO Adding component components.stitchers.openai_chat_completions to the pipeline. \n",
      "2023-09-12 13:16:14,059 name=ffmodel.core.orchestrator level=INFO Adding component components.model_callers.openai_chat_completions to the pipeline. \n",
      "2023-09-12 13:16:14,064 name=ffmodel.core.orchestrator level=INFO Adding component components.post_processors.minify_json to the pipeline. \n",
      "2023-09-12 13:16:14,071 name=ffmodel.core.orchestrator level=INFO Adding component components.evaluators.json_syntax to the pipeline. \n",
      "2023-09-12 13:16:14,075 name=ffmodel.core.orchestrator level=INFO Adding component components.evaluators.semantic_similarity to the pipeline. \n",
      "/Users/jomalsan/cse/Hackathon2023/.venv/lib/python3.11/site-packages/thefuzz/fuzz.py:11: UserWarning: Using slow pure-python SequenceMatcher. Install python-Levenshtein to remove this warning\n",
      "  warnings.warn('Using slow pure-python SequenceMatcher. Install python-Levenshtein to remove this warning')\n",
      "2023-09-12 13:16:14,094 name=ffmodel.core.orchestrator level=INFO Adding component components.evaluators.fuzzy to the pipeline. \n",
      "[nltk_data] Error loading punkt: <urlopen error [SSL:\n",
      "[nltk_data]     CERTIFICATE_VERIFY_FAILED] certificate verify failed:\n",
      "[nltk_data]     unable to get local issuer certificate (_ssl.c:1002)>\n",
      "2023-09-12 13:16:31,588 name=ffmodel.core.orchestrator level=INFO Adding component components.evaluators.bleu to the pipeline. \n",
      "2023-09-12 13:16:31,669 name=ffmodel.core.orchestrator level=INFO Adding component components.evaluators.rouge to the pipeline. \n",
      "2023-09-12 13:16:31,670 name=ffmodel.core.orchestrator level=INFO Beginning execution... \n",
      "2023-09-12 13:16:31,670 name=ffmodel.core.orchestrator level=INFO Executing 'components.pre_processors.static_context_from_file' \n",
      "2023-09-12 13:16:31,670 name=ffmodel.core.orchestrator level=INFO Executing 'components.pre_processors.whisper_speech_to_text' \n",
      "2023-09-12 13:16:31,670 name=ffmodel.core.orchestrator level=INFO Executing 'components.stitchers.openai_chat_completions' \n",
      "2023-09-12 13:16:31,671 name=ffmodel.core.orchestrator level=INFO Executing 'components.model_callers.openai_chat_completions' \n",
      "2023-09-12 13:17:09,926 name=ffmodel.core.orchestrator level=INFO Executing 'components.post_processors.minify_json' \n",
      "2023-09-12 13:17:09,928 name=ffmodel.core.orchestrator level=INFO Executing 'components.evaluators.json_syntax' \n",
      "2023-09-12 13:17:09,929 name=ffmodel.core.orchestrator level=INFO Executing 'components.evaluators.semantic_similarity' \n",
      "2023-09-12 13:17:12,067 name=ffmodel.core.orchestrator level=INFO Executing 'components.evaluators.fuzzy' \n",
      "2023-09-12 13:17:12,138 name=ffmodel.core.orchestrator level=INFO Executing 'components.evaluators.bleu' \n",
      "2023-09-12 13:17:12,161 name=ffmodel.core.orchestrator level=INFO Executing 'components.evaluators.rouge' \n",
      "2023-09-12 13:17:12,162 name=ffmodel.core.orchestrator level=INFO Finished execution\n",
      "Returning data models \n",
      "2023-09-12 13:17:12,164 name=ffmodel.core.orchestrator level=METRICS request_complete \n",
      "2023-09-12 13:17:12,165 name=ffmodel.core.orchestrator level=METRICS evaluation_metrics \n",
      "2023-09-12 13:17:12,165 name=ffmodel.core.orchestrator level=METRICS final_data_model \n",
      "2023-09-12 13:17:12,165 name=ffmodel.core.orchestrator level=METRICS request_complete \n",
      "2023-09-12 13:17:12,165 name=ffmodel.core.orchestrator level=METRICS evaluation_metrics \n",
      "2023-09-12 13:17:12,166 name=ffmodel.core.orchestrator level=METRICS final_data_model \n",
      "2023-09-12 13:17:12,166 name=ffmodel.core.orchestrator level=METRICS request_complete \n",
      "2023-09-12 13:17:12,166 name=ffmodel.core.orchestrator level=METRICS evaluation_metrics \n",
      "2023-09-12 13:17:12,166 name=ffmodel.core.orchestrator level=METRICS final_data_model \n",
      "2023-09-12 13:17:12,166 name=ffmodel.core.orchestrator level=METRICS request_complete \n",
      "2023-09-12 13:17:12,167 name=ffmodel.core.orchestrator level=METRICS evaluation_metrics \n",
      "2023-09-12 13:17:12,167 name=ffmodel.core.orchestrator level=METRICS final_data_model \n",
      "2023-09-12 13:17:12,167 name=ffmodel.core.orchestrator level=METRICS request_complete \n",
      "2023-09-12 13:17:12,167 name=ffmodel.core.orchestrator level=METRICS evaluation_metrics \n",
      "2023-09-12 13:17:12,167 name=ffmodel.core.orchestrator level=METRICS final_data_model \n",
      "2023-09-12 13:17:12,167 name=ffmodel.core.orchestrator level=METRICS request_complete \n",
      "2023-09-12 13:17:12,168 name=ffmodel.core.orchestrator level=METRICS evaluation_metrics \n",
      "2023-09-12 13:17:12,168 name=ffmodel.core.orchestrator level=METRICS final_data_model \n",
      "2023-09-12 13:17:12,168 name=ffmodel.core.orchestrator level=METRICS request_complete \n",
      "2023-09-12 13:17:12,168 name=ffmodel.core.orchestrator level=METRICS evaluation_metrics \n",
      "2023-09-12 13:17:12,169 name=ffmodel.core.orchestrator level=METRICS final_data_model \n",
      "2023-09-12 13:17:12,169 name=ffmodel.core.orchestrator level=METRICS request_complete \n",
      "2023-09-12 13:17:12,169 name=ffmodel.core.orchestrator level=METRICS evaluation_metrics \n",
      "2023-09-12 13:17:12,169 name=ffmodel.core.orchestrator level=METRICS final_data_model \n",
      "2023-09-12 13:17:12,169 name=ffmodel.core.orchestrator level=INFO Finished local experiment \n"
     ]
    }
   ],
   "source": [
    "solution_config_path = \"./solution_configs/1_initial.yaml\"\n",
    "\n",
    "data_models = orchestrator.execute_experiment_on_local(solution_config_path, environment_config_path)"
   ]
  },
  {
   "cell_type": "code",
   "execution_count": null,
   "metadata": {},
   "outputs": [],
   "source": [
    "i = 0"
   ]
  },
  {
   "cell_type": "code",
   "execution_count": null,
   "metadata": {},
   "outputs": [],
   "source": [
    "print(data_models[i].state)"
   ]
  },
  {
   "cell_type": "code",
   "execution_count": null,
   "metadata": {},
   "outputs": [],
   "source": [
    "print(data_models[i].model_output.completions)"
   ]
  },
  {
   "cell_type": "code",
   "execution_count": null,
   "metadata": {},
   "outputs": [],
   "source": [
    "print(data_models[i].request.expected_output)"
   ]
  },
  {
   "cell_type": "code",
   "execution_count": null,
   "metadata": {},
   "outputs": [],
   "source": [
    "data_models[i].experiment_metrics"
   ]
  }
 ],
 "metadata": {
  "kernelspec": {
   "display_name": "lseg-cond-sum",
   "language": "python",
   "name": "python3"
  },
  "language_info": {
   "codemirror_mode": {
    "name": "ipython",
    "version": 3
   },
   "file_extension": ".py",
   "mimetype": "text/x-python",
   "name": "python",
   "nbconvert_exporter": "python",
   "pygments_lexer": "ipython3",
   "version": "3.11.4"
  },
  "orig_nbformat": 4
 },
 "nbformat": 4,
 "nbformat_minor": 2
}
