{
 "cells": [
  {
   "cell_type": "markdown",
   "metadata": {},
   "source": [
    "# Experiment Locally\n",
    "\n",
    "This is a simple notebook to run a local experiment."
   ]
  },
  {
   "cell_type": "code",
   "execution_count": 1,
   "metadata": {},
   "outputs": [],
   "source": [
    "from ffmodel.core import orchestrator\n",
    "\n",
    "environment_config_path = \"~/.product-search.env\""
   ]
  },
  {
   "cell_type": "code",
   "execution_count": 2,
   "metadata": {},
   "outputs": [
    {
     "name": "stderr",
     "output_type": "stream",
     "text": [
      "2023-10-10 15:02:49,376 name=ffmodel.core.orchestrator level=INFO Starting local experiment with solution-id - 01_baseline and run-id coral_napa_hb62xtrb8d \n"
     ]
    },
    {
     "name": "stdout",
     "output_type": "stream",
     "text": [
      "Loading local environment configs from file.\n",
      "Loaded 2 configs from file '/Users/jorgeluna/.product-search.env'.\n",
      "Key vault url not set. Skipping key vault client initialization.\n",
      "FFModelLogger: Logging will print to console as no AppInsight connection was provided (config `APP_INSIGHTS_CONNECTION_STRING)`.\n"
     ]
    },
    {
     "ename": "FileNotFoundError",
     "evalue": "File path not found: ./data/sample_dataset.jsonl",
     "output_type": "error",
     "traceback": [
      "\u001b[0;31m---------------------------------------------------------------------------\u001b[0m",
      "\u001b[0;31mFileNotFoundError\u001b[0m                         Traceback (most recent call last)",
      "\u001b[1;32m/Users/jorgeluna/work/OpenAI-Labs/Labs/FFModel/Labs/product-search/solution/experiment_locally.ipynb Cell 3\u001b[0m line \u001b[0;36m3\n\u001b[1;32m      <a href='vscode-notebook-cell:/Users/jorgeluna/work/OpenAI-Labs/Labs/FFModel/Labs/product-search/solution/experiment_locally.ipynb#W2sZmlsZQ%3D%3D?line=0'>1</a>\u001b[0m solution_config_path \u001b[39m=\u001b[39m \u001b[39m\"\u001b[39m\u001b[39m./solution_configs/02_with_fewshots.yaml\u001b[39m\u001b[39m\"\u001b[39m\n\u001b[0;32m----> <a href='vscode-notebook-cell:/Users/jorgeluna/work/OpenAI-Labs/Labs/FFModel/Labs/product-search/solution/experiment_locally.ipynb#W2sZmlsZQ%3D%3D?line=2'>3</a>\u001b[0m data_models \u001b[39m=\u001b[39m orchestrator\u001b[39m.\u001b[39;49mexecute_experiment_on_local(solution_config_path, environment_config_path)\n",
      "File \u001b[0;32m~/anaconda3/envs/hackpython/lib/python3.11/site-packages/ffmodel/core/orchestrator.py:234\u001b[0m, in \u001b[0;36mexecute_experiment_on_local\u001b[0;34m(solution_config_path, environment_config_path)\u001b[0m\n\u001b[1;32m    232\u001b[0m reader_config \u001b[39m=\u001b[39m solution_config\u001b[39m.\u001b[39mexperimentation\u001b[39m.\u001b[39mreader\n\u001b[1;32m    233\u001b[0m reader_module \u001b[39m=\u001b[39m importlib\u001b[39m.\u001b[39mimport_module(reader_config\u001b[39m.\u001b[39mname)\n\u001b[0;32m--> 234\u001b[0m reader \u001b[39m=\u001b[39m reader_module\u001b[39m.\u001b[39;49mReader(\n\u001b[1;32m    235\u001b[0m     name\u001b[39m=\u001b[39;49mreader_config\u001b[39m.\u001b[39;49mname,\n\u001b[1;32m    236\u001b[0m     args\u001b[39m=\u001b[39;49mreader_config\u001b[39m.\u001b[39;49margs,\n\u001b[1;32m    237\u001b[0m     data_model_type\u001b[39m=\u001b[39;49mreader_config\u001b[39m.\u001b[39;49mdata_model_type,\n\u001b[1;32m    238\u001b[0m     data_config\u001b[39m=\u001b[39;49msolution_config\u001b[39m.\u001b[39;49mexperimentation\u001b[39m.\u001b[39;49mdata,\n\u001b[1;32m    239\u001b[0m )\n\u001b[1;32m    241\u001b[0m \u001b[39m# Writers\u001b[39;00m\n\u001b[1;32m    242\u001b[0m writers \u001b[39m=\u001b[39m []\n",
      "File \u001b[0;32m~/anaconda3/envs/hackpython/lib/python3.11/site-packages/ffmodel/components/base.py:79\u001b[0m, in \u001b[0;36mBaseReaderComponent.__init__\u001b[0;34m(self, name, args, data_model_type, data_config)\u001b[0m\n\u001b[1;32m     76\u001b[0m         \u001b[39mself\u001b[39m\u001b[39m.\u001b[39m_download_aml_data_asset()\n\u001b[1;32m     78\u001b[0m     \u001b[39mif\u001b[39;00m \u001b[39mself\u001b[39m\u001b[39m.\u001b[39mdata_config\u001b[39m.\u001b[39mfile_path \u001b[39mis\u001b[39;00m \u001b[39mNone\u001b[39;00m \u001b[39mor\u001b[39;00m \u001b[39mnot\u001b[39;00m os\u001b[39m.\u001b[39mpath\u001b[39m.\u001b[39mexists(\u001b[39mself\u001b[39m\u001b[39m.\u001b[39mdata_config\u001b[39m.\u001b[39mfile_path):\n\u001b[0;32m---> 79\u001b[0m         \u001b[39mraise\u001b[39;00m \u001b[39mFileNotFoundError\u001b[39;00m(\u001b[39mf\u001b[39m\u001b[39m\"\u001b[39m\u001b[39mFile path not found: \u001b[39m\u001b[39m{\u001b[39;00m\u001b[39mself\u001b[39m\u001b[39m.\u001b[39mdata_config\u001b[39m.\u001b[39mfile_path\u001b[39m}\u001b[39;00m\u001b[39m\"\u001b[39m)\n\u001b[1;32m     81\u001b[0m \u001b[39mself\u001b[39m\u001b[39m.\u001b[39m_post_init()\n",
      "\u001b[0;31mFileNotFoundError\u001b[0m: File path not found: ./data/sample_dataset.jsonl"
     ]
    }
   ],
   "source": [
    "solution_config_path = \"./solution_configs/02_with_fewshots.yaml\"\n",
    "\n",
    "data_models = orchestrator.execute_experiment_on_local(solution_config_path, environment_config_path)"
   ]
  },
  {
   "cell_type": "code",
   "execution_count": 3,
   "metadata": {},
   "outputs": [],
   "source": [
    "i = 0"
   ]
  },
  {
   "cell_type": "code",
   "execution_count": 4,
   "metadata": {},
   "outputs": [
    {
     "name": "stdout",
     "output_type": "stream",
     "text": [
      "{\n",
      "    \"component_data\": {},\n",
      "    \"context\": [\n",
      "        \"*You are a shopping assistant for Contoso store, you are helpful and cheerful, when people ask for help you recommend one or more products that they should purchase based on their questions.\\n*Results should be provided in a structured output that is json format containing the following elements\\n    *product_name\\n    *quantity\\n*If asked about anything except for product recommendations, you politely decline.\\n\"\n",
      "    ],\n",
      "    \"completion_pairs\": [\n",
      "        [\n",
      "            \"I am starting a new tech job, what tools do I need\",\n",
      "            \"{\\\"products\\\": [{\\\"product_name\\\": \\\"Laptop\\\", \\\"quantity\\\": 2}, {\\\"product_name\\\": \\\"Mouse\\\", \\\"quantity\\\": 4}, {\\\"product_name\\\": \\\"Keyboard\\\", \\\"quantity\\\": 3}]}\"\n",
      "        ],\n",
      "        [\n",
      "            \"What do I need to buy for my trip to the beach\",\n",
      "            \"{\\\"products\\\": [{\\\"product_name\\\": \\\"Beachball\\\", \\\"quantity\\\": 1}, {\\\"product_name\\\": \\\"towel\\\", \\\"quantity\\\": 1}]}\"\n",
      "        ],\n",
      "        [\n",
      "            \"Gonna go to a soccer tournament, its gonnna be hot, what do I need in order to stay hydrated?\",\n",
      "            \"{\\\"products\\\": [{\\\"product_name\\\": \\\"Bottled Water\\\", \\\"quantity\\\": 6}]}\"\n",
      "        ]\n",
      "    ],\n",
      "    \"session\": [],\n",
      "    \"user_nl\": \"\\\"I just installed new countertops and need to seal them, what do I need in order to do that?\\\"\"\n",
      "}\n"
     ]
    }
   ],
   "source": [
    "print(data_models[i].state)"
   ]
  },
  {
   "cell_type": "code",
   "execution_count": 5,
   "metadata": {},
   "outputs": [
    {
     "name": "stdout",
     "output_type": "stream",
     "text": [
      "[\"I'm sorry, as a shopping assistant for Contoso store, I don't have any products related to countertop sealing. Is there anything else I can help you with?\"]\n"
     ]
    }
   ],
   "source": [
    "print(data_models[i].model_output.completions)"
   ]
  },
  {
   "cell_type": "code",
   "execution_count": 6,
   "metadata": {},
   "outputs": [
    {
     "name": "stdout",
     "output_type": "stream",
     "text": [
      "['test']\n"
     ]
    }
   ],
   "source": [
    "print(data_models[i].request.expected_output)"
   ]
  },
  {
   "cell_type": "code",
   "execution_count": 7,
   "metadata": {},
   "outputs": [
    {
     "data": {
      "text/plain": [
       "{'components.model_callers.openai_chat_completions': {'completion_tokens': [102],\n",
       "  'prompt_tokens': [51],\n",
       "  'total_tokens': [153]},\n",
       " 'components.evaluators.semantic_similarity': {'semantic_similarity': [0.6936584668359627]}}"
      ]
     },
     "execution_count": 7,
     "metadata": {},
     "output_type": "execute_result"
    }
   ],
   "source": [
    "data_models[i].experiment_metrics"
   ]
  }
 ],
 "metadata": {
  "kernelspec": {
   "display_name": "lseg-cond-sum",
   "language": "python",
   "name": "python3"
  },
  "language_info": {
   "codemirror_mode": {
    "name": "ipython",
    "version": 3
   },
   "file_extension": ".py",
   "mimetype": "text/x-python",
   "name": "python",
   "nbconvert_exporter": "python",
   "pygments_lexer": "ipython3",
   "version": "3.11.5"
  },
  "orig_nbformat": 4
 },
 "nbformat": 4,
 "nbformat_minor": 2
}
