{
 "cells": [
  {
   "attachments": {},
   "cell_type": "markdown",
   "metadata": {},
   "source": [
    "# Classification Prompts ChatGPT\n",
    "\n",
    "*__NOTE:__\n",
    "For instructions on running the Jupyter Notebook that contains the labs see instructions here: <https://github.com/retaildevcrews/OpenAI-Labs>*\n",
    "\n",
    "This sample notebook demonstrates how the Chat Completion API responds to different prompt techniques when classifying text.  Prompt Engineering material can be found here: \n",
    "<https://www.promptingguide.ai>\n",
    "\n",
    "For these examples we will show different prompt techniques while classifying text based on sentiment.\n"
   ]
  },
  {
   "cell_type": "code",
   "execution_count": 3,
   "metadata": {},
   "outputs": [
    {
     "data": {
      "text/plain": [
       "True"
      ]
     },
     "execution_count": 3,
     "metadata": {},
     "output_type": "execute_result"
    }
   ],
   "source": [
    "# import os module & the OpenAI Python library for calling the OpenAI API\n",
    "# please make sure you have installed required libraries via pip install -r requirements.txt\n",
    "import os\n",
    "import openai\n",
    "from dotenv import load_dotenv\n",
    "\n",
    "load_dotenv()\n",
    "\n"
   ]
  },
  {
   "cell_type": "code",
   "execution_count": 6,
   "metadata": {},
   "outputs": [],
   "source": [
    "# Load config values\n",
    "\n",
    "# The base URL for your Azure OpenAI resource. e.g. \"https://<your resource name>.openai.azure.com\"\n",
    "openai.api_base = os.getenv(\"OPENAI_API_BASE\")\n",
    "    \n",
    "# This is set to `azure`\n",
    "openai.api_type = \"azure\"\n",
    "\n",
    "# The API key for your Azure OpenAI resource.\n",
    "openai.api_key = os.getenv(\"OPENAI_API_KEY\")\n",
    "\n",
    "# Setting up the deployment name\n",
    "chatgpt_model_name = os.getenv(\"CHATGPT_MODEL\")\n",
    "\n",
    "# Currently Chat Completions API have the following versions available: 2023-03-15-preview\n",
    "openai.api_version = os.getenv(\"OPENAI_API_VERSION\")\n"
   ]
  },
  {
   "attachments": {},
   "cell_type": "markdown",
   "metadata": {},
   "source": [
    "## 1.0 Define Request to OpenAI API\n",
    "For these labs we are using the Azure OpenAI Completion API, this is different than the Chat completion API.  Information about its usage can be found here:\n",
    "<https://learn.microsoft.com/en-us/azure/cognitive-services/openai/reference#completions>\n",
    "The function defined below takes prompt and settings parameters sends the request to the endpoint and prints the text element from the result.\n",
    "\n"
   ]
  },
  {
   "cell_type": "code",
   "execution_count": 7,
   "metadata": {},
   "outputs": [],
   "source": [
    "# Defining a function to send the prompt to the ChatGPT model\n",
    "# More info : https://learn.microsoft.com/en-us/azure/cognitive-services/openai/how-to/chatgpt?pivots=programming-language-chat-completions\n",
    "def send_prompt(prompt, temperature=0.5, top_p=0.5):\n",
    "    messages=[\n",
    "    {\"role\": \"system\", \"content\": \"you are an assistant that performs completions\"},\n",
    "    {\"role\": \"user\", \"content\":prompt}\n",
    "    ]\n",
    "    response = openai.chat.completions.create(\n",
    "        messages=messages,\n",
    "        model=chatgpt_model_name,\n",
    "        temperature=temperature,\n",
    "        top_p=top_p,\n",
    "        frequency_penalty=0,\n",
    "        presence_penalty=0,\n",
    "    )\n",
    "    response_content=response.choices[0].message.content\n",
    "    print(\"----\")\n",
    "    print(\"Settings:\")\n",
    "    print(\"temperature: \"+ str(temperature) + \" top_p: \" + str(top_p))\n",
    "    print(\"Prompt: \" + prompt)\n",
    "    print(\"Response: \")\n",
    "    print(str(response_content))\n",
    "    print(\"----\")\n",
    "    return response_content\n"
   ]
  },
  {
   "attachments": {},
   "cell_type": "markdown",
   "metadata": {},
   "source": [
    "## 2.0 Zero shot sentiment classification prompt examples\n",
    "This prompt works well because the LLM understands \"sentiment\", in the zero shot examples the prompt is self contained and does not "
   ]
  },
  {
   "cell_type": "code",
   "execution_count": 8,
   "metadata": {},
   "outputs": [
    {
     "ename": "AttributeError",
     "evalue": "module 'openai' has no attribute 'ChatCompletion'",
     "output_type": "error",
     "traceback": [
      "\u001b[0;31m---------------------------------------------------------------------------\u001b[0m",
      "\u001b[0;31mAttributeError\u001b[0m                            Traceback (most recent call last)",
      "\u001b[1;32m/Users/jorgeluna/work/OpenAI-Labs/Labs/Lab Notebooks/01 - Prompt Engineering/02-Classification-Prompts.ipynb Cell 7\u001b[0m line \u001b[0;36m5\n\u001b[1;32m      <a href='vscode-notebook-cell:/Users/jorgeluna/work/OpenAI-Labs/Labs/Lab%20Notebooks/01%20-%20Prompt%20Engineering/02-Classification-Prompts.ipynb#W6sZmlsZQ%3D%3D?line=0'>1</a>\u001b[0m prompt \u001b[39m=\u001b[39m  \u001b[39m\"\"\"\u001b[39m\n\u001b[1;32m      <a href='vscode-notebook-cell:/Users/jorgeluna/work/OpenAI-Labs/Labs/Lab%20Notebooks/01%20-%20Prompt%20Engineering/02-Classification-Prompts.ipynb#W6sZmlsZQ%3D%3D?line=1'>2</a>\u001b[0m \u001b[39mText: I think the vacation is okay.\u001b[39m\n\u001b[1;32m      <a href='vscode-notebook-cell:/Users/jorgeluna/work/OpenAI-Labs/Labs/Lab%20Notebooks/01%20-%20Prompt%20Engineering/02-Classification-Prompts.ipynb#W6sZmlsZQ%3D%3D?line=2'>3</a>\u001b[0m \u001b[39mSentiment:\u001b[39m\n\u001b[1;32m      <a href='vscode-notebook-cell:/Users/jorgeluna/work/OpenAI-Labs/Labs/Lab%20Notebooks/01%20-%20Prompt%20Engineering/02-Classification-Prompts.ipynb#W6sZmlsZQ%3D%3D?line=3'>4</a>\u001b[0m \u001b[39m\"\"\"\u001b[39m\n\u001b[0;32m----> <a href='vscode-notebook-cell:/Users/jorgeluna/work/OpenAI-Labs/Labs/Lab%20Notebooks/01%20-%20Prompt%20Engineering/02-Classification-Prompts.ipynb#W6sZmlsZQ%3D%3D?line=4'>5</a>\u001b[0m send_prompt(prompt)\n\u001b[1;32m      <a href='vscode-notebook-cell:/Users/jorgeluna/work/OpenAI-Labs/Labs/Lab%20Notebooks/01%20-%20Prompt%20Engineering/02-Classification-Prompts.ipynb#W6sZmlsZQ%3D%3D?line=6'>7</a>\u001b[0m prompt \u001b[39m=\u001b[39m  \u001b[39m\"\"\"\u001b[39m\n\u001b[1;32m      <a href='vscode-notebook-cell:/Users/jorgeluna/work/OpenAI-Labs/Labs/Lab%20Notebooks/01%20-%20Prompt%20Engineering/02-Classification-Prompts.ipynb#W6sZmlsZQ%3D%3D?line=7'>8</a>\u001b[0m \u001b[39mText: I think the vacation is awesome.\u001b[39m\n\u001b[1;32m      <a href='vscode-notebook-cell:/Users/jorgeluna/work/OpenAI-Labs/Labs/Lab%20Notebooks/01%20-%20Prompt%20Engineering/02-Classification-Prompts.ipynb#W6sZmlsZQ%3D%3D?line=8'>9</a>\u001b[0m \u001b[39mSentiment:\u001b[39m\n\u001b[1;32m     <a href='vscode-notebook-cell:/Users/jorgeluna/work/OpenAI-Labs/Labs/Lab%20Notebooks/01%20-%20Prompt%20Engineering/02-Classification-Prompts.ipynb#W6sZmlsZQ%3D%3D?line=9'>10</a>\u001b[0m \u001b[39m\"\"\"\u001b[39m\n\u001b[1;32m     <a href='vscode-notebook-cell:/Users/jorgeluna/work/OpenAI-Labs/Labs/Lab%20Notebooks/01%20-%20Prompt%20Engineering/02-Classification-Prompts.ipynb#W6sZmlsZQ%3D%3D?line=10'>11</a>\u001b[0m send_prompt(prompt)\n",
      "\u001b[1;32m/Users/jorgeluna/work/OpenAI-Labs/Labs/Lab Notebooks/01 - Prompt Engineering/02-Classification-Prompts.ipynb Cell 7\u001b[0m line \u001b[0;36m8\n\u001b[1;32m      <a href='vscode-notebook-cell:/Users/jorgeluna/work/OpenAI-Labs/Labs/Lab%20Notebooks/01%20-%20Prompt%20Engineering/02-Classification-Prompts.ipynb#W6sZmlsZQ%3D%3D?line=2'>3</a>\u001b[0m \u001b[39mdef\u001b[39;00m \u001b[39msend_prompt\u001b[39m(prompt, temperature\u001b[39m=\u001b[39m\u001b[39m0.5\u001b[39m, top_p\u001b[39m=\u001b[39m\u001b[39m0.5\u001b[39m):\n\u001b[1;32m      <a href='vscode-notebook-cell:/Users/jorgeluna/work/OpenAI-Labs/Labs/Lab%20Notebooks/01%20-%20Prompt%20Engineering/02-Classification-Prompts.ipynb#W6sZmlsZQ%3D%3D?line=3'>4</a>\u001b[0m     messages\u001b[39m=\u001b[39m[\n\u001b[1;32m      <a href='vscode-notebook-cell:/Users/jorgeluna/work/OpenAI-Labs/Labs/Lab%20Notebooks/01%20-%20Prompt%20Engineering/02-Classification-Prompts.ipynb#W6sZmlsZQ%3D%3D?line=4'>5</a>\u001b[0m     {\u001b[39m\"\u001b[39m\u001b[39mrole\u001b[39m\u001b[39m\"\u001b[39m: \u001b[39m\"\u001b[39m\u001b[39msystem\u001b[39m\u001b[39m\"\u001b[39m, \u001b[39m\"\u001b[39m\u001b[39mcontent\u001b[39m\u001b[39m\"\u001b[39m: \u001b[39m\"\u001b[39m\u001b[39myou are an assistant that performs completions\u001b[39m\u001b[39m\"\u001b[39m},\n\u001b[1;32m      <a href='vscode-notebook-cell:/Users/jorgeluna/work/OpenAI-Labs/Labs/Lab%20Notebooks/01%20-%20Prompt%20Engineering/02-Classification-Prompts.ipynb#W6sZmlsZQ%3D%3D?line=5'>6</a>\u001b[0m     {\u001b[39m\"\u001b[39m\u001b[39mrole\u001b[39m\u001b[39m\"\u001b[39m: \u001b[39m\"\u001b[39m\u001b[39muser\u001b[39m\u001b[39m\"\u001b[39m, \u001b[39m\"\u001b[39m\u001b[39mcontent\u001b[39m\u001b[39m\"\u001b[39m:prompt}\n\u001b[1;32m      <a href='vscode-notebook-cell:/Users/jorgeluna/work/OpenAI-Labs/Labs/Lab%20Notebooks/01%20-%20Prompt%20Engineering/02-Classification-Prompts.ipynb#W6sZmlsZQ%3D%3D?line=6'>7</a>\u001b[0m     ]\n\u001b[0;32m----> <a href='vscode-notebook-cell:/Users/jorgeluna/work/OpenAI-Labs/Labs/Lab%20Notebooks/01%20-%20Prompt%20Engineering/02-Classification-Prompts.ipynb#W6sZmlsZQ%3D%3D?line=7'>8</a>\u001b[0m     response \u001b[39m=\u001b[39m openai\u001b[39m.\u001b[39;49mChatCompletion\u001b[39m.\u001b[39mcreate(\n\u001b[1;32m      <a href='vscode-notebook-cell:/Users/jorgeluna/work/OpenAI-Labs/Labs/Lab%20Notebooks/01%20-%20Prompt%20Engineering/02-Classification-Prompts.ipynb#W6sZmlsZQ%3D%3D?line=8'>9</a>\u001b[0m         engine\u001b[39m=\u001b[39mchatgpt_model_name,\n\u001b[1;32m     <a href='vscode-notebook-cell:/Users/jorgeluna/work/OpenAI-Labs/Labs/Lab%20Notebooks/01%20-%20Prompt%20Engineering/02-Classification-Prompts.ipynb#W6sZmlsZQ%3D%3D?line=9'>10</a>\u001b[0m         messages\u001b[39m=\u001b[39mmessages,\n\u001b[1;32m     <a href='vscode-notebook-cell:/Users/jorgeluna/work/OpenAI-Labs/Labs/Lab%20Notebooks/01%20-%20Prompt%20Engineering/02-Classification-Prompts.ipynb#W6sZmlsZQ%3D%3D?line=10'>11</a>\u001b[0m         temperature\u001b[39m=\u001b[39mtemperature,\n\u001b[1;32m     <a href='vscode-notebook-cell:/Users/jorgeluna/work/OpenAI-Labs/Labs/Lab%20Notebooks/01%20-%20Prompt%20Engineering/02-Classification-Prompts.ipynb#W6sZmlsZQ%3D%3D?line=11'>12</a>\u001b[0m         top_p\u001b[39m=\u001b[39mtop_p,\n\u001b[1;32m     <a href='vscode-notebook-cell:/Users/jorgeluna/work/OpenAI-Labs/Labs/Lab%20Notebooks/01%20-%20Prompt%20Engineering/02-Classification-Prompts.ipynb#W6sZmlsZQ%3D%3D?line=12'>13</a>\u001b[0m         frequency_penalty\u001b[39m=\u001b[39m\u001b[39m0\u001b[39m,\n\u001b[1;32m     <a href='vscode-notebook-cell:/Users/jorgeluna/work/OpenAI-Labs/Labs/Lab%20Notebooks/01%20-%20Prompt%20Engineering/02-Classification-Prompts.ipynb#W6sZmlsZQ%3D%3D?line=13'>14</a>\u001b[0m         presence_penalty\u001b[39m=\u001b[39m\u001b[39m0\u001b[39m,\n\u001b[1;32m     <a href='vscode-notebook-cell:/Users/jorgeluna/work/OpenAI-Labs/Labs/Lab%20Notebooks/01%20-%20Prompt%20Engineering/02-Classification-Prompts.ipynb#W6sZmlsZQ%3D%3D?line=14'>15</a>\u001b[0m     )\n\u001b[1;32m     <a href='vscode-notebook-cell:/Users/jorgeluna/work/OpenAI-Labs/Labs/Lab%20Notebooks/01%20-%20Prompt%20Engineering/02-Classification-Prompts.ipynb#W6sZmlsZQ%3D%3D?line=15'>16</a>\u001b[0m     \u001b[39mprint\u001b[39m(\u001b[39m\"\u001b[39m\u001b[39m----\u001b[39m\u001b[39m\"\u001b[39m)\n\u001b[1;32m     <a href='vscode-notebook-cell:/Users/jorgeluna/work/OpenAI-Labs/Labs/Lab%20Notebooks/01%20-%20Prompt%20Engineering/02-Classification-Prompts.ipynb#W6sZmlsZQ%3D%3D?line=16'>17</a>\u001b[0m     \u001b[39mprint\u001b[39m(\u001b[39m\"\u001b[39m\u001b[39mSettings:\u001b[39m\u001b[39m\"\u001b[39m)\n",
      "\u001b[0;31mAttributeError\u001b[0m: module 'openai' has no attribute 'ChatCompletion'"
     ]
    }
   ],
   "source": [
    "prompt =  \"\"\"\n",
    "Text: I think the vacation is okay.\n",
    "Sentiment:\n",
    "\"\"\"\n",
    "send_prompt(prompt)\n",
    "\n",
    "prompt =  \"\"\"\n",
    "Text: I think the vacation is awesome.\n",
    "Sentiment:\n",
    "\"\"\"\n",
    "send_prompt(prompt)\n",
    "\n",
    "prompt =  \"\"\"\n",
    "Text: I think the vacation is awful.\n",
    "Sentiment:\n",
    "\"\"\"\n",
    "send_prompt(prompt)\n"
   ]
  },
  {
   "attachments": {},
   "cell_type": "markdown",
   "metadata": {},
   "source": [
    "## 3.0 One shot sentiment classification prompt examples\n",
    "In this case the prompt provides one example of how the response should be formatted"
   ]
  },
  {
   "cell_type": "code",
   "execution_count": null,
   "metadata": {},
   "outputs": [],
   "source": [
    "prompt =  \"\"\"\n",
    "Text: I think the vacation is awsome\n",
    "Response: The user is feeling good about things\n",
    "Text: I think the vacation is so much fun.\n",
    "Response:\n",
    "\"\"\"\n",
    "response = send_prompt(prompt)\n",
    "\n",
    "print('Response: ', response)\n",
    "prompt =  \"\"\"\n",
    "Text: I think the vacation is awsome\n",
    "Response: The user is feeling good about things\n",
    "Text: I think the vacation is okay.\n",
    "Response:\n",
    "\"\"\"\n",
    "response = send_prompt(prompt)\n",
    "print('Response: ', response)\n",
    "\n",
    "prompt =  \"\"\"\n",
    "Text: I think the vacation is awsome\n",
    "Response: The user is feeling good about things\n",
    "Text: I think the vacation is awful.\n",
    "Response:\n",
    "\"\"\"\n",
    "response = send_prompt(prompt)\n",
    "print('Response: ', response)\n"
   ]
  },
  {
   "attachments": {},
   "cell_type": "markdown",
   "metadata": {},
   "source": [
    "## 4.0 Few shot sentiment classification prompt examples\n",
    "In these examples we will use few shot technique to change clssification of the text to respond with words other than positive, neutral, or negative"
   ]
  },
  {
   "cell_type": "code",
   "execution_count": null,
   "metadata": {},
   "outputs": [],
   "source": [
    "prompt =  \"\"\"\n",
    "Text: Today the weather is fantastic\n",
    "Classification: Good\n",
    "Text: The furniture is small.\n",
    "Classification: Okay\n",
    "Text: The vacation was terrible\n",
    "Classification: Bad\n",
    "Text: The food was awesome\n",
    "Classification:\n",
    "\"\"\"\n",
    "response = send_prompt(prompt)\n",
    "print('Response: ', response)\n",
    "\n",
    "prompt =  \"\"\"\n",
    "Text: Today the weather is fantastic\n",
    "Classification: Good\n",
    "Text: The furniture is small.\n",
    "Classification: Okay\n",
    "Text: The vacation was terrible\n",
    "Classification: Bad\n",
    "Text: The food was warm\n",
    "Classification:\n",
    "\"\"\"\n",
    "response = send_prompt(prompt)\n",
    "print('Response: ', response)\n",
    "\n",
    "prompt =  \"\"\"\n",
    "Text: Today the weather is fantastic\n",
    "Classification: Good\n",
    "Text: The furniture is small.\n",
    "Classification: Okay\n",
    "Text: The vacation was terrible\n",
    "Classification: Bad\n",
    "Text: The food was terrible\n",
    "Classification:\n",
    "\"\"\"\n",
    "response = send_prompt(prompt)\n",
    "print('Response: ', response)\n"
   ]
  }
 ],
 "metadata": {
  "kernelspec": {
   "display_name": "Python 3 (ipykernel)",
   "language": "python",
   "name": "python3"
  },
  "language_info": {
   "codemirror_mode": {
    "name": "ipython",
    "version": 3
   },
   "file_extension": ".py",
   "mimetype": "text/x-python",
   "name": "python",
   "nbconvert_exporter": "python",
   "pygments_lexer": "ipython3",
   "version": "3.11.6"
  },
  "vscode": {
   "interpreter": {
    "hash": "fc180f703c9255d3d630e6d09ed4eb3355d27845db546035ce1b410f2bfa43b7"
   }
  }
 },
 "nbformat": 4,
 "nbformat_minor": 2
}
